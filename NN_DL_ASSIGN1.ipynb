{
 "cells": [
  {
   "cell_type": "code",
   "execution_count": 4,
   "id": "d9134935",
   "metadata": {},
   "outputs": [],
   "source": [
    "#1 Input the string “Python” as a list of characters from console, delete at least 2 characters, reverse the\n",
    "#resultant string and print it."
   ]
  },
  {
   "cell_type": "code",
   "execution_count": 11,
   "id": "be3e1a4f",
   "metadata": {},
   "outputs": [
    {
     "name": "stdout",
     "output_type": "stream",
     "text": [
      "Pyon\n",
      "noyP\n"
     ]
    }
   ],
   "source": [
    "aString=\"Python\"\n",
    "#replace is used to delete set of characters\n",
    "a=aString.replace('t','')\n",
    "a=a.replace('h','')\n",
    "print(a)\n",
    "#reversing the obtained string\n",
    "print(a[::-1])\n"
   ]
  },
  {
   "cell_type": "code",
   "execution_count": null,
   "id": "6ba46e27",
   "metadata": {},
   "outputs": [],
   "source": [
    "# Take two numbers from user and perform at least 4 arithmetic operations on them"
   ]
  },
  {
   "cell_type": "code",
   "execution_count": 17,
   "id": "17ab5813",
   "metadata": {},
   "outputs": [
    {
     "name": "stdout",
     "output_type": "stream",
     "text": [
      "enter one number:4\n",
      "enter another number:2\n",
      "sum: 6\n",
      "sub: 2\n",
      "multiply: 8\n",
      "divide: 2.0\n"
     ]
    }
   ],
   "source": [
    "a=int(input(\"enter one number:\"))\n",
    "b=int(input(\"enter another number:\"))\n",
    "print('sum:',a+b )\n",
    "print('sub:',a-b )\n",
    "print('multiply:',a*b )\n",
    "print('divide:',a/b )"
   ]
  },
  {
   "cell_type": "code",
   "execution_count": null,
   "id": "021420bd",
   "metadata": {},
   "outputs": [],
   "source": [
    "#2 Write a program that accepts a sentence and replace each occurrence of ‘python’ with ‘pythons’.\n"
   ]
  },
  {
   "cell_type": "code",
   "execution_count": 20,
   "id": "996c40ed",
   "metadata": {},
   "outputs": [
    {
     "name": "stdout",
     "output_type": "stream",
     "text": [
      "I love playing with python\n",
      "I love playing with pythons\n"
     ]
    }
   ],
   "source": [
    "bString=\"I love playing with python\"\n",
    "print(bString)\n",
    "#replace is used to copy the old string and replace with new string\n",
    "print(bString.replace('python','pythons'))"
   ]
  },
  {
   "cell_type": "code",
   "execution_count": null,
   "id": "c11cb1f6",
   "metadata": {},
   "outputs": [],
   "source": [
    "#3 Use the if statement conditions to write a program to print the letter grade based on an input class score. Use\n",
    "#the grading scheme we are using in this class."
   ]
  },
  {
   "cell_type": "code",
   "execution_count": 23,
   "id": "1b6f6b1f",
   "metadata": {},
   "outputs": [
    {
     "name": "stdout",
     "output_type": "stream",
     "text": [
      "enter your marks:90\n",
      "A\n"
     ]
    }
   ],
   "source": [
    "score=int(input(\"enter your marks:\"))\n",
    "if score>=90 and score<=100:\n",
    "    print(\"A\")\n",
    "elif score>=80 and score<90:\n",
    "    print(\"B\")\n",
    "elif score>=70 and score<80:\n",
    "    print(\"C\")\n",
    "elif score>=60 and score<70:\n",
    "    print(\"D\")\n",
    "else:\n",
    "    print(\"F\")"
   ]
  },
  {
   "cell_type": "code",
   "execution_count": null,
   "id": "82606958",
   "metadata": {},
   "outputs": [],
   "source": []
  }
 ],
 "metadata": {
  "kernelspec": {
   "display_name": "Python 3 (ipykernel)",
   "language": "python",
   "name": "python3"
  },
  "language_info": {
   "codemirror_mode": {
    "name": "ipython",
    "version": 3
   },
   "file_extension": ".py",
   "mimetype": "text/x-python",
   "name": "python",
   "nbconvert_exporter": "python",
   "pygments_lexer": "ipython3",
   "version": "3.9.12"
  }
 },
 "nbformat": 4,
 "nbformat_minor": 5
}
